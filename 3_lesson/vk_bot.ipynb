{
 "cells": [
  {
   "cell_type": "markdown",
   "id": "50d2a180-0d62-41b9-afc5-8e2cf8cf61c4",
   "metadata": {},
   "source": [
    "link for data\n",
    "https://github.com/sashaboriskin/university_data_analisys/tree/main/3_lesson\n",
    "\n",
    "link for vk bot\n",
    "https://vk.com/club222791603"
   ]
  },
  {
   "cell_type": "code",
   "execution_count": 126,
   "id": "d84e31a2-8db9-417b-820a-b616194c6d57",
   "metadata": {
    "tags": []
   },
   "outputs": [],
   "source": [
    "import random\n",
    "import logging\n",
    "from logging import FileHandler, Formatter\n",
    "import sys\n",
    "\n",
    "import pandas as pd\n",
    "import vk_api \n",
    "from vk_api.longpoll import VkLongPoll, VkEventType\n",
    "from vk_api.utils import get_random_id\n",
    "from vk_api.keyboard import VkKeyboard, VkKeyboardColor"
   ]
  },
  {
   "cell_type": "code",
   "execution_count": 127,
   "id": "96c00ec3-822b-424e-8885-0625c7753059",
   "metadata": {
    "tags": []
   },
   "outputs": [],
   "source": [
    "# Подключение к вк\n",
    "group_key = 'vk1.a.IozVEQToDm3N8sOnFPt7xecrQTGnmCHM-BeOuM0gl-PcbmJxqtw4P1r-wa7rkno55vyQTu-2yMvDu6etw11kq7WQIf7cEon_Q9trQp5uwIsejUgw0VVh2yZWNB9SiIYjXJ72EBY_rgwDOYb5L3qM8ojj6wQDdoXO81qak5HH8J3CmPpN8u3167TxIB7lpeZP2OzYyO97QNhCg7d6T8PA8A'\n",
    "vk_session = vk_api.VkApi(token = group_key)\n",
    "longpoll = VkLongPoll(vk_session)\n",
    "vk = vk_session.get_api()\n",
    "\n",
    "# Название файлов с вопросами\n",
    "quiz_files = {\n",
    "    'свойства воздуха': 'свойства воздуха.csv',\n",
    "}\n",
    "\n",
    "materials = pd.read_csv('data/материалы.csv', delimiter=';')\n",
    "\n",
    "# Настройки клавиатуры\n",
    "keyboard = VkKeyboard(one_time=False)\n",
    "keyboard.add_button('свойства воздуха', color=VkKeyboardColor.SECONDARY)\n",
    "keyboard.add_button('статистика', color=VkKeyboardColor.POSITIVE)\n",
    "\n",
    "# Структура (пользователь -> статистика)\n",
    "global user_stats\n",
    "user_stats = dict()"
   ]
  },
  {
   "cell_type": "code",
   "execution_count": 128,
   "id": "4d2f4b7b-2912-483e-95c4-d1e5c18b4b20",
   "metadata": {
    "tags": []
   },
   "outputs": [],
   "source": [
    "logging.getLogger(\"requests\").setLevel(logging.WARNING)\n",
    "logging.getLogger(\"urllib3\").setLevel(logging.WARNING)\n",
    "logging.getLogger(\"urllib3\").propagate = False\n",
    "\n",
    "logger = logging.getLogger()\n",
    "logger.setLevel(logging.DEBUG)\n",
    "\n",
    "pd.DataFrame({\"time\": [], \"log_type\": [], \"ation_type\": [], \"user_id\": []}).to_csv(\"logs.csv\", sep=\"\\t\", index=False)\n",
    "\n",
    "handler = FileHandler(filename=\"logs.csv\")\n",
    "handler.setFormatter(Formatter(fmt='%(asctime)s\\t%(levelname)s\\t%(message)s'))\n",
    "logger.addHandler(handler)"
   ]
  },
  {
   "cell_type": "code",
   "execution_count": 129,
   "id": "990c8427-a716-4fbc-8df1-fb59400b5c77",
   "metadata": {
    "tags": []
   },
   "outputs": [],
   "source": [
    "def define_action(event, commands):\n",
    "    for i in range(len(commands)):\n",
    "        if event.text.startswith(comands[i]):\n",
    "            return i\n",
    "\n",
    "    return -1"
   ]
  },
  {
   "cell_type": "code",
   "execution_count": 130,
   "id": "c72f2529-76ee-417b-ba7a-8f7cb8fdf6ca",
   "metadata": {
    "tags": []
   },
   "outputs": [],
   "source": [
    "# Отправляем статистику пользователя\n",
    "def check_stats(user_id):\n",
    "    if user_stats[user_id]['number_of_all_answers'] != 0:\n",
    "        message = f\"\"\"Статистика ваших ответов:\n",
    "            Правильных: {user_stats[user_id]['number_of_right_answers']}\n",
    "            Всего: {user_stats[user_id]['number_of_all_answers']}\n",
    "            Процент: {user_stats[user_id]['number_of_right_answers']/user_stats[user_id]['number_of_all_answers'] * 100}\n",
    "        \"\"\"\n",
    "        vk.messages.send(\n",
    "            user_id=user_id,\n",
    "            message=message,\n",
    "            random_id=0\n",
    "        )\n",
    "    else:\n",
    "        vk.messages.send(\n",
    "            user_id=user_id,\n",
    "            message='Вы еще не прошли ни одной викторины',\n",
    "            random_id=0\n",
    "        )"
   ]
  },
  {
   "cell_type": "code",
   "execution_count": 131,
   "id": "3968c420-1755-4696-a7db-516e74c50ef5",
   "metadata": {
    "tags": []
   },
   "outputs": [],
   "source": [
    "def try_to_guess(user_id, right_answer_index):\n",
    "    is_right_answer = True\n",
    "    for answer_event in longpoll.listen():\n",
    "        if answer_event.type == VkEventType.MESSAGE_NEW and answer_event.to_me:\n",
    "            try:\n",
    "                user_answer = int(answer_event.text)\n",
    "            except ValueError:\n",
    "                logger.critical(f'неправильный формат данных\\t{event.user_id}')\n",
    "            \n",
    "            if user_answer not in (1, 2, 3, 4):\n",
    "                error_message = 'неправильный формат ответа. ответ должен быть цифрой от 1 до 4'\n",
    "                logger.error(f'{error_message}\\t{event.user_id}')\n",
    "                vk.messages.send(\n",
    "                    user_id=user_id,\n",
    "                    message=error_message,\n",
    "                    random_id=0\n",
    "                )\n",
    "            # user_stats[user_id]['number_of_all_answers'] += 1\n",
    "\n",
    "            if user_answer != right_answer_index:\n",
    "                is_right_answer = False\n",
    "                logger.debug(f'юзер выбрал неправильный ответ\\t{event.user_id}')\n",
    "            break\n",
    "            \n",
    "    return is_right_answer, user_answer"
   ]
  },
  {
   "cell_type": "code",
   "execution_count": 132,
   "id": "ce25e2fa-7e46-4594-be75-fef4600e49c5",
   "metadata": {
    "tags": []
   },
   "outputs": [],
   "source": [
    "def quiz(text, user_id, materials):\n",
    "    # Пользователь выбрал викторину, начинаем вопросы\n",
    "    quiz_name = text\n",
    "    df = pd.read_csv(f'data/{quiz_files[quiz_name]}', encoding='utf-8', delimiter=';')\n",
    "    all_questions = df['формулировка вопроса'].unique()\n",
    "  \n",
    "    for question in all_questions:\n",
    "        \n",
    "        possible_answers = list(df[df['формулировка вопроса']==question]['вариант ответа'])\n",
    "        right_answer_text = df[df['формулировка вопроса']==question] \\\n",
    "           [df['правильность']==1]['вариант ответа'].item()\n",
    "        right_answer_index = possible_answers.index(right_answer_text) + 1\n",
    "\n",
    "        message = f'''{question} \n",
    "        1. {possible_answers[0]} \n",
    "        2. {possible_answers[1]}\n",
    "        3. {possible_answers[2]}\n",
    "        4. {possible_answers[3]}'''\n",
    "\n",
    "        vk.messages.send(\n",
    "                user_id=user_id,\n",
    "                message=message,\n",
    "                random_id=0\n",
    "            )\n",
    "       \n",
    "        is_right_answer, user_answer = try_to_guess(user_id, right_answer_index)\n",
    "        user_stats[user_id]['number_of_all_answers'] += 1\n",
    "        logging.info(f'stats: number_of_all_answers+=1\\t{event.user_id}')\n",
    "        \n",
    "        if not is_right_answer:\n",
    "                material_message = materials[materials['название темы']==quiz_name]['ссылка на материал'].item()\n",
    "                logging.info(f'вопрос: {question}, ответ: {user_answer}, {is_right_answer}')\n",
    "                vk.messages.send(\n",
    "                            user_id=user_id,\n",
    "                            message=f'ответ неверный. ссылка для повторения: {material_message}',\n",
    "                            random_id=0\n",
    "                        )\n",
    "                break\n",
    "        else:\n",
    "            user_stats[user_id]['number_of_right_answers'] += 1\n",
    "            logging.info(f'вопрос: {question}, ответ: {user_answer}, {is_right_answer}\\t{event.user_id}')\n",
    "            logging.info(f'stats: number_of_right_answers+=1\\t{event.user_id}')\n",
    "            vk.messages.send(\n",
    "                        user_id=user_id,\n",
    "                        message=f'ответ верный. следующий вопрос',\n",
    "                        random_id=0\n",
    "                    )\n",
    "            continue\n",
    "        vk.messages.send(\n",
    "                        user_id=user_id,\n",
    "                        message='вопросы закончились! ждите новых викторин! ',\n",
    "                        random_id=0\n",
    "                    )\n",
    "        logging.info(f'вопросы закончились\\t{event.user_id}')"
   ]
  },
  {
   "cell_type": "code",
   "execution_count": null,
   "id": "7b4ad0ae-9047-4d15-9d16-35b5266fda22",
   "metadata": {
    "tags": []
   },
   "outputs": [],
   "source": [
    "for event in longpoll.listen():\n",
    "    if event.type == VkEventType.MESSAGE_NEW and event.to_me:\n",
    "        user_id = event.user_id\n",
    "        text = event.text.lower()\n",
    "        # Переменные для подсчета статистики\n",
    "        if not user_id in user_stats.keys(): \n",
    "            \n",
    "            user_stats[user_id] = {\n",
    "                'number_of_right_answers': 0,\n",
    "                'number_of_all_answers': 0\n",
    "            }\n",
    "        \n",
    "        if text == 'привет':   \n",
    "            logger.info(f'приветсвенное сообщение\\t{event.user_id}')\n",
    "            print('info, приветсвенное сообщение')\n",
    "            vk.messages.send(\n",
    "                user_id=user_id,\n",
    "                message=\"Выберите викторину:\",\n",
    "                random_id=0,\n",
    "                keyboard=keyboard.get_keyboard()\n",
    "            )\n",
    "            \n",
    "        elif text in quiz_files.keys():\n",
    "            logger.info(f'начало викторины\\t{event.user_id}')\n",
    "            print('info, начало виуторины')\n",
    "            quiz(text, user_id, materials)\n",
    "                        \n",
    "        elif text == 'статистика':\n",
    "            logger.info(f'вызов и просмотр статистики\\t{event.user_id}')\n",
    "            print('info, просмотр статистики')\n",
    "            check_stats(user_id)\n",
    "            \n",
    "        else: \n",
    "            logger.error(f'неизвестная команда от пользотвателя\\t{event.user_id}')\n",
    "            print('error, unknown command')\n",
    "            vk.messages.send(\n",
    "                    user_id=user_id,\n",
    "                    message='Неизвестная команда',\n",
    "                    random_id=0\n",
    "                )"
   ]
  },
  {
   "cell_type": "code",
   "execution_count": 123,
   "id": "223a55f9-a33f-42ac-8080-c7239634170f",
   "metadata": {
    "tags": []
   },
   "outputs": [],
   "source": [
    "DF = pd.read_csv('logs.csv', delimiter='\\t')\n",
    "DF.rename(columns={'user_id': 'case:concept:name', \n",
    "                  'ation_type': 'concept:name', \n",
    "                  'time': 'time:timestamp'}, inplace=True)"
   ]
  },
  {
   "cell_type": "code",
   "execution_count": 124,
   "id": "a57cc00d-5e2d-4b45-94b8-726cd418dbf9",
   "metadata": {
    "tags": []
   },
   "outputs": [
    {
     "data": {
      "text/html": [
       "<div>\n",
       "<style scoped>\n",
       "    .dataframe tbody tr th:only-of-type {\n",
       "        vertical-align: middle;\n",
       "    }\n",
       "\n",
       "    .dataframe tbody tr th {\n",
       "        vertical-align: top;\n",
       "    }\n",
       "\n",
       "    .dataframe thead th {\n",
       "        text-align: right;\n",
       "    }\n",
       "</style>\n",
       "<table border=\"1\" class=\"dataframe\">\n",
       "  <thead>\n",
       "    <tr style=\"text-align: right;\">\n",
       "      <th></th>\n",
       "      <th>time:timestamp</th>\n",
       "      <th>log_type</th>\n",
       "      <th>concept:name</th>\n",
       "      <th>case:concept:name</th>\n",
       "    </tr>\n",
       "  </thead>\n",
       "  <tbody>\n",
       "    <tr>\n",
       "      <th>0</th>\n",
       "      <td>2023-10-08 22:07:16,640</td>\n",
       "      <td>INFO</td>\n",
       "      <td>приветсвенное сообщение</td>\n",
       "      <td>101180492.0</td>\n",
       "    </tr>\n",
       "    <tr>\n",
       "      <th>1</th>\n",
       "      <td>2023-10-08 22:07:23,767</td>\n",
       "      <td>INFO</td>\n",
       "      <td>начало викторины</td>\n",
       "      <td>101180492.0</td>\n",
       "    </tr>\n",
       "    <tr>\n",
       "      <th>2</th>\n",
       "      <td>2023-10-08 22:07:27,690</td>\n",
       "      <td>INFO</td>\n",
       "      <td>stats: number_of_all_answers+=1</td>\n",
       "      <td>101180492.0</td>\n",
       "    </tr>\n",
       "    <tr>\n",
       "      <th>3</th>\n",
       "      <td>2023-10-08 22:07:27,690</td>\n",
       "      <td>INFO</td>\n",
       "      <td>вопрос: Что такое воздух?, ответ: 1, True</td>\n",
       "      <td>101180492.0</td>\n",
       "    </tr>\n",
       "    <tr>\n",
       "      <th>4</th>\n",
       "      <td>2023-10-08 22:07:27,691</td>\n",
       "      <td>INFO</td>\n",
       "      <td>stats: number_of_right_answers+=1</td>\n",
       "      <td>101180492.0</td>\n",
       "    </tr>\n",
       "    <tr>\n",
       "      <th>5</th>\n",
       "      <td>2023-10-08 22:07:30,447</td>\n",
       "      <td>ERROR</td>\n",
       "      <td>неправильный формат ответа. ответ должен быть ...</td>\n",
       "      <td>101180492.0</td>\n",
       "    </tr>\n",
       "    <tr>\n",
       "      <th>6</th>\n",
       "      <td>2023-10-08 22:07:30,559</td>\n",
       "      <td>INFO</td>\n",
       "      <td>stats: number_of_all_answers+=1</td>\n",
       "      <td>101180492.0</td>\n",
       "    </tr>\n",
       "    <tr>\n",
       "      <th>7</th>\n",
       "      <td>2023-10-08 22:07:30,561</td>\n",
       "      <td>INFO</td>\n",
       "      <td>вопрос: Какое из веществ входит в основной сос...</td>\n",
       "      <td>NaN</td>\n",
       "    </tr>\n",
       "    <tr>\n",
       "      <th>8</th>\n",
       "      <td>2023-10-08 22:07:36,364</td>\n",
       "      <td>INFO</td>\n",
       "      <td>вызов и просмотр статистики</td>\n",
       "      <td>101180492.0</td>\n",
       "    </tr>\n",
       "  </tbody>\n",
       "</table>\n",
       "</div>"
      ],
      "text/plain": [
       "            time:timestamp log_type  \\\n",
       "0  2023-10-08 22:07:16,640     INFO   \n",
       "1  2023-10-08 22:07:23,767     INFO   \n",
       "2  2023-10-08 22:07:27,690     INFO   \n",
       "3  2023-10-08 22:07:27,690     INFO   \n",
       "4  2023-10-08 22:07:27,691     INFO   \n",
       "5  2023-10-08 22:07:30,447    ERROR   \n",
       "6  2023-10-08 22:07:30,559     INFO   \n",
       "7  2023-10-08 22:07:30,561     INFO   \n",
       "8  2023-10-08 22:07:36,364     INFO   \n",
       "\n",
       "                                        concept:name  case:concept:name  \n",
       "0                            приветсвенное сообщение        101180492.0  \n",
       "1                                   начало викторины        101180492.0  \n",
       "2                    stats: number_of_all_answers+=1        101180492.0  \n",
       "3          вопрос: Что такое воздух?, ответ: 1, True        101180492.0  \n",
       "4                  stats: number_of_right_answers+=1        101180492.0  \n",
       "5  неправильный формат ответа. ответ должен быть ...        101180492.0  \n",
       "6                    stats: number_of_all_answers+=1        101180492.0  \n",
       "7  вопрос: Какое из веществ входит в основной сос...                NaN  \n",
       "8                        вызов и просмотр статистики        101180492.0  "
      ]
     },
     "execution_count": 124,
     "metadata": {},
     "output_type": "execute_result"
    }
   ],
   "source": [
    "DF"
   ]
  },
  {
   "cell_type": "code",
   "execution_count": 125,
   "id": "6c9a8cb1-17b0-49cf-bed1-0a89ee351369",
   "metadata": {},
   "outputs": [
    {
     "data": {
      "image/png": "[encoded data removed]",
      "text/plain": [
       "<IPython.core.display.Image object>"
      ]
     },
     "metadata": {},
     "output_type": "display_data"
    }
   ],
   "source": [
    "from pm4py.objects.conversion.log import converter as log_conv\n",
    "log = log_conv.apply(DF)\n",
    "\n",
    "from pm4py.algo.discovery.heuristics import algorithm as heuristics_miner\n",
    "heu_net = heuristics_miner.apply_heu(log)\n",
    "\n",
    "from pm4py.visualization.heuristics_net import visualizer as hn_vis_factory\n",
    "gviz = hn_vis_factory.apply(heu_net)\n",
    "hn_vis_factory.view(gviz)"
   ]
  },
  {
   "cell_type": "code",
   "execution_count": null,
   "id": "60284310-ee6c-4716-addb-a7dbc922462d",
   "metadata": {},
   "outputs": [],
   "source": []
  }
 ],
 "metadata": {
  "kernelspec": {
   "display_name": "Python 3 (ipykernel)",
   "language": "python",
   "name": "python3"
  },
  "language_info": {
   "codemirror_mode": {
    "name": "ipython",
    "version": 3
   },
   "file_extension": ".py",
   "mimetype": "text/x-python",
   "name": "python",
   "nbconvert_exporter": "python",
   "pygments_lexer": "ipython3",
   "version": "3.11.4"
  }
 },
 "nbformat": 4,
 "nbformat_minor": 5
}
