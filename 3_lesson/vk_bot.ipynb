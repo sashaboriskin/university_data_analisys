{
 "cells": [
  {
   "cell_type": "markdown",
   "id": "50d2a180-0d62-41b9-afc5-8e2cf8cf61c4",
   "metadata": {},
   "source": [
    "link for data\n",
    "https://github.com/sashaboriskin/university_data_analisys/tree/main/3_lesson\n",
    "link for vk bot\n",
    "https://vk.com/club222791603"
   ]
  },
  {
   "cell_type": "code",
   "execution_count": 171,
   "id": "d84e31a2-8db9-417b-820a-b616194c6d57",
   "metadata": {
    "tags": []
   },
   "outputs": [],
   "source": [
    "import random\n",
    "import pandas as pd\n",
    "import vk_api \n",
    "from vk_api.longpoll import VkLongPoll, VkEventType\n",
    "from vk_api.utils import get_random_id\n",
    "from vk_api.keyboard import VkKeyboard, VkKeyboardColor"
   ]
  },
  {
   "cell_type": "code",
   "execution_count": 202,
   "id": "96c00ec3-822b-424e-8885-0625c7753059",
   "metadata": {
    "tags": []
   },
   "outputs": [],
   "source": [
    "# Подключение к вк\n",
    "group_key = 'vk1.a.IozVEQToDm3N8sOnFPt7xecrQTGnmCHM-BeOuM0gl-PcbmJxqtw4P1r-wa7rkno55vyQTu-2yMvDu6etw11kq7WQIf7cEon_Q9trQp5uwIsejUgw0VVh2yZWNB9SiIYjXJ72EBY_rgwDOYb5L3qM8ojj6wQDdoXO81qak5HH8J3CmPpN8u3167TxIB7lpeZP2OzYyO97QNhCg7d6T8PA8A'\n",
    "vk_session = vk_api.VkApi(token = group_key)\n",
    "longpoll = VkLongPoll(vk_session)\n",
    "vk = vk_session.get_api()\n",
    "\n",
    "# Название файлов с вопросами\n",
    "quiz_files = {\n",
    "    'свойства воздуха': 'свойства воздуха.csv',\n",
    "}\n",
    "\n",
    "materials = pd.read_csv('data/материалы.csv', delimiter=';')\n",
    "\n",
    "# Настройки клавиатуры\n",
    "keyboard = VkKeyboard(one_time=False)\n",
    "keyboard.add_button('свойства воздуха', color=VkKeyboardColor.SECONDARY)\n",
    "keyboard.add_button('статистика', color=VkKeyboardColor.POSITIVE)\n",
    "\n",
    "# Структура (пользователь -> статистика)\n",
    "global user_stats\n",
    "user_stats = dict()"
   ]
  },
  {
   "cell_type": "code",
   "execution_count": 203,
   "id": "c72f2529-76ee-417b-ba7a-8f7cb8fdf6ca",
   "metadata": {
    "tags": []
   },
   "outputs": [],
   "source": [
    "# Отправляем статистику пользователя\n",
    "def check_stats(user_id):\n",
    "    if user_stats[user_id]['number_of_all_answers'] != 0:\n",
    "        message = f\"\"\"Статистика ваших ответов:\n",
    "            Правильных: {user_stats[user_id]['number_of_right_answers']}\n",
    "            Всего: {user_stats[user_id]['number_of_all_answers']}\n",
    "            Процент: {user_stats[user_id]['number_of_right_answers']/user_stats[user_id]['number_of_all_answers'] * 100}\n",
    "        \"\"\"\n",
    "        vk.messages.send(\n",
    "            user_id=user_id,\n",
    "            message=message,\n",
    "            random_id=0\n",
    "        )\n",
    "    else:\n",
    "        vk.messages.send(\n",
    "            user_id=user_id,\n",
    "            message='Вы еще не прошли ни одной викторины',\n",
    "            random_id=0\n",
    "        )"
   ]
  },
  {
   "cell_type": "code",
   "execution_count": 204,
   "id": "3968c420-1755-4696-a7db-516e74c50ef5",
   "metadata": {
    "tags": []
   },
   "outputs": [],
   "source": [
    "def try_to_guess(user_id, right_answer_index):\n",
    "    is_right_answer = True\n",
    "    for answer_event in longpoll.listen():\n",
    "        if answer_event.type == VkEventType.MESSAGE_NEW and answer_event.to_me:\n",
    "            user_answer = int(answer_event.text)\n",
    "\n",
    "            if user_answer not in (1, 2, 3, 4):\n",
    "                error_message = 'неправильный формат ответа. ответ должен быть цифрой от 1 до 4'\n",
    "                vk.messages.send(\n",
    "                    user_id=user_id,\n",
    "                    message=error_message,\n",
    "                    random_id=0\n",
    "                )\n",
    "            # user_stats[user_id]['number_of_all_answers'] += 1\n",
    "\n",
    "            if user_answer != right_answer_index:\n",
    "                is_right_answer = False\n",
    "            break\n",
    "            \n",
    "    return is_right_answer"
   ]
  },
  {
   "cell_type": "code",
   "execution_count": 205,
   "id": "ce25e2fa-7e46-4594-be75-fef4600e49c5",
   "metadata": {
    "tags": []
   },
   "outputs": [],
   "source": [
    "def quiz(text, user_id, materials):\n",
    "    # Пользователь выбрал викторину, начинаем вопросы\n",
    "    quiz_name = text\n",
    "    df = pd.read_csv(f'data/{quiz_files[quiz_name]}', encoding='utf-8', delimiter=';')\n",
    "    all_questions = df['формулировка вопроса'].unique()\n",
    "  \n",
    "    for question in all_questions:\n",
    "        \n",
    "        possible_answers = list(df[df['формулировка вопроса']==question]['вариант ответа'])\n",
    "        right_answer_text = df[df['формулировка вопроса']==question] \\\n",
    "           [df['правильность']==1]['вариант ответа'].item()\n",
    "        right_answer_index = possible_answers.index(right_answer_text) + 1\n",
    "\n",
    "        message = f'''{question} \n",
    "        1. {possible_answers[0]} \n",
    "        2. {possible_answers[1]}\n",
    "        3. {possible_answers[2]}\n",
    "        4. {possible_answers[3]}'''\n",
    "\n",
    "        vk.messages.send(\n",
    "                user_id=user_id,\n",
    "                message=message,\n",
    "                random_id=0\n",
    "            )\n",
    "       \n",
    "        is_right_answer = try_to_guess(user_id, right_answer_index)\n",
    "        user_stats[user_id]['number_of_all_answers'] += 1\n",
    "        \n",
    "        if not is_right_answer:\n",
    "                material_message = materials[materials['название темы']==quiz_name]['ссылка на материал'].item()\n",
    "                vk.messages.send(\n",
    "                            user_id=user_id,\n",
    "                            message=f'ответ неверный. ссылка для повторения: {material_message}',\n",
    "                            random_id=0\n",
    "                        )\n",
    "                break\n",
    "        else:\n",
    "            user_stats[user_id]['number_of_right_answers'] += 1\n",
    "            vk.messages.send(\n",
    "                        user_id=user_id,\n",
    "                        message=f'ответ верный. следующий вопрос',\n",
    "                        random_id=0\n",
    "                    )\n",
    "            continue"
   ]
  },
  {
   "cell_type": "code",
   "execution_count": null,
   "id": "7b4ad0ae-9047-4d15-9d16-35b5266fda22",
   "metadata": {
    "tags": []
   },
   "outputs": [
    {
     "name": "stderr",
     "output_type": "stream",
     "text": [
      "/var/folders/f5/mpttzb9n0f99d4gzb95z0k8r0000gn/T/ipykernel_66847/2155064967.py:10: UserWarning: Boolean Series key will be reindexed to match DataFrame index.\n",
      "  right_answer_text = df[df['формулировка вопроса']==question] \\\n",
      "/var/folders/f5/mpttzb9n0f99d4gzb95z0k8r0000gn/T/ipykernel_66847/2155064967.py:10: UserWarning: Boolean Series key will be reindexed to match DataFrame index.\n",
      "  right_answer_text = df[df['формулировка вопроса']==question] \\\n"
     ]
    }
   ],
   "source": [
    "for event in longpoll.listen():\n",
    "    if event.type == VkEventType.MESSAGE_NEW and event.to_me:\n",
    "        user_id = event.user_id\n",
    "        text = event.text.lower()\n",
    "        \n",
    "        # Переменные для подсчета статистики\n",
    "        if not user_id in user_stats.keys(): \n",
    "            \n",
    "            user_stats[user_id] = {\n",
    "                'number_of_right_answers': 0,\n",
    "                'number_of_all_answers': 0\n",
    "            }\n",
    "        \n",
    "        if text == 'привет':           \n",
    "            vk.messages.send(\n",
    "                user_id=user_id,\n",
    "                message=\"Выберите викторину:\",\n",
    "                random_id=0,\n",
    "                keyboard=keyboard.get_keyboard()\n",
    "            )\n",
    "            \n",
    "        elif text in quiz_files.keys():\n",
    "            quiz(text, user_id, materials)\n",
    "                        \n",
    "        elif text == 'статистика':\n",
    "            check_stats(user_id)\n",
    "            \n",
    "        else: \n",
    "            vk.messages.send(\n",
    "                    user_id=user_id,\n",
    "                    message='Неизвестная команда',\n",
    "                    random_id=0\n",
    "                )"
   ]
  },
  {
   "cell_type": "code",
   "execution_count": null,
   "id": "6711f970-b60d-4380-adb9-910e8db3fa41",
   "metadata": {
    "tags": []
   },
   "outputs": [],
   "source": [
    "%debug"
   ]
  },
  {
   "cell_type": "code",
   "execution_count": null,
   "id": "6c9a8cb1-17b0-49cf-bed1-0a89ee351369",
   "metadata": {},
   "outputs": [],
   "source": []
  }
 ],
 "metadata": {
  "kernelspec": {
   "display_name": "Python 3 (ipykernel)",
   "language": "python",
   "name": "python3"
  },
  "language_info": {
   "codemirror_mode": {
    "name": "ipython",
    "version": 3
   },
   "file_extension": ".py",
   "mimetype": "text/x-python",
   "name": "python",
   "nbconvert_exporter": "python",
   "pygments_lexer": "ipython3",
   "version": "3.11.4"
  }
 },
 "nbformat": 4,
 "nbformat_minor": 5
}
