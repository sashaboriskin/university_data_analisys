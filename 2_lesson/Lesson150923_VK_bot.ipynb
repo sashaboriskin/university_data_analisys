{
 "cells": [
  {
   "cell_type": "code",
   "execution_count": 1,
   "id": "ff158c36",
   "metadata": {},
   "outputs": [],
   "source": [
    "group_key = 'vk1.a.bWFAv2nUjgNXsMoYFVDxH4Lu5ytdNeE8NENnR8esNupW7-Z73QMzwPEs73iAp4CBiACKeQmXdiFVjxZQPyMVLnr0XzNC4K-tLQSdwO8oZfn0SxTIzseBcpQrRevaJtje9ababJQmZGF0yKxfILgHAzAZ0iJlPr0CERH9Uu4-VfL73X8iyOukjhGtJEVtILSWMPvCeD9Zt6FbtAZ6BBRrpw'"
   ]
  },
  {
   "cell_type": "code",
   "execution_count": 2,
   "id": "e7d36cb1",
   "metadata": {},
   "outputs": [],
   "source": [
    "# vk_api\n",
    "# pip install vk_api"
   ]
  },
  {
   "cell_type": "code",
   "execution_count": 15,
   "id": "8de22c67",
   "metadata": {},
   "outputs": [],
   "source": [
    "import vk_api \n",
    "from vk_api.longpoll import VkLongPoll, VkEventType\n",
    "from vk_api.utils import get_random_id"
   ]
  },
  {
   "cell_type": "code",
   "execution_count": 27,
   "id": "30411506",
   "metadata": {},
   "outputs": [
    {
     "name": "stdout",
     "output_type": "stream",
     "text": [
      "Requirement already satisfied: BeautifulSoup4 in /Users/mgordenko/opt/anaconda3/lib/python3.9/site-packages (4.11.1)\n",
      "Requirement already satisfied: soupsieve>1.2 in /Users/mgordenko/opt/anaconda3/lib/python3.9/site-packages (from BeautifulSoup4) (2.3.1)\n",
      "Note: you may need to restart the kernel to use updated packages.\n"
     ]
    }
   ],
   "source": [
    "pip install BeautifulSoup4"
   ]
  },
  {
   "cell_type": "code",
   "execution_count": 33,
   "id": "2579375b",
   "metadata": {},
   "outputs": [
    {
     "data": {
      "text/plain": [
       "'Утром: +9° +16° Днем: +18° +19°'"
      ]
     },
     "execution_count": 33,
     "metadata": {},
     "output_type": "execute_result"
    }
   ],
   "source": [
    "from bs4 import BeautifulSoup\n",
    "\n",
    "def get_weather(city):\n",
    "    request = requests.get('https://sinoptik.ua/погода-' + city)\n",
    "    b = BeautifulSoup(request.text, \"html.parser\")\n",
    "    p3 = b.select('.temperature .p3')\n",
    "    weather1 = p3[0].getText()\n",
    "    p4 = b.select('.temperature .p4')\n",
    "    weather2 = p4[0].getText()\n",
    "    p5 = b.select('.temperature .p5')\n",
    "    weather3 = p5[0].getText()\n",
    "    p6 = b.select('.temperature .p6')\n",
    "    weather4 = p6[0].getText()\n",
    "    result = 'Утром: ' + weather1 + ' ' + weather2\n",
    "    result += ' Днем: ' + weather3 + ' ' + weather4\n",
    "    return result\n",
    "\n",
    "get_weather('москва')"
   ]
  },
  {
   "cell_type": "code",
   "execution_count": 36,
   "id": "2b3dd16d",
   "metadata": {},
   "outputs": [],
   "source": [
    "import wikipedia"
   ]
  },
  {
   "cell_type": "code",
   "execution_count": null,
   "id": "adfdfdfa",
   "metadata": {},
   "outputs": [],
   "source": [
    "vk_session = vk_api.VkApi(token = group_key)\n",
    "longpoll = VkLongPoll(vk_session)\n",
    "vk = vk_session.get_api()\n",
    "\n",
    "for event in longpoll.listen():\n",
    "    if event.type == VkEventType.MESSAGE_NEW and event.to_me:\n",
    "        if (event.text.startswith('+')):\n",
    "            vk.messages.send(user_id = event.user_id,\n",
    "                            random_id = get_random_id(),\n",
    "                           message = '+++++++++')\n",
    "        elif (event.text.startswith('weather')):\n",
    "            vk.messages.send(user_id = event.user_id,\n",
    "                            random_id = get_random_id(),\n",
    "                           message = get_weather('москва'))\n",
    "        elif (event.text.startswith('wiki')):\n",
    "            vk.messages.send(user_id = event.user_id,\n",
    "                            random_id = get_random_id(),\n",
    "                           message = wikipedia.summary(str(event.text.split()[1:])))\n",
    "        else:\n",
    "            vk.messages.send(user_id = event.user_id,\n",
    "                            random_id = get_random_id(),\n",
    "                           message = event.text)"
   ]
  },
  {
   "cell_type": "code",
   "execution_count": null,
   "id": "08b0bdf7",
   "metadata": {},
   "outputs": [],
   "source": []
  }
 ],
 "metadata": {
  "kernelspec": {
   "display_name": "Python 3 (ipykernel)",
   "language": "python",
   "name": "python3"
  },
  "language_info": {
   "codemirror_mode": {
    "name": "ipython",
    "version": 3
   },
   "file_extension": ".py",
   "mimetype": "text/x-python",
   "name": "python",
   "nbconvert_exporter": "python",
   "pygments_lexer": "ipython3",
   "version": "3.9.12"
  }
 },
 "nbformat": 4,
 "nbformat_minor": 5
}
